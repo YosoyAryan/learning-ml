{
 "cells": [
  {
   "cell_type": "code",
   "execution_count": 1,
   "id": "1d7c0ba9",
   "metadata": {},
   "outputs": [
    {
     "name": "stdout",
     "output_type": "stream",
     "text": [
      "enter range of array10\n",
      "enter element at index 0\n",
      "23\n",
      "enter element at index 1\n",
      "43\n",
      "enter element at index 2\n",
      "45\n",
      "enter element at index 3\n",
      "65\n",
      "enter element at index 4\n",
      "78\n",
      "enter element at index 5\n",
      "98\n",
      "enter element at index 6\n",
      "67\n",
      "enter element at index 7\n",
      "98\n",
      "enter element at index 8\n",
      "09\n",
      "enter element at index 9\n",
      "56\n"
     ]
    }
   ],
   "source": [
    "import numpy as np \n",
    "n=int(input('enter range of array'))\n",
    "a1=np.arange(0,int(n))\n",
    "for i in range(0,n):\n",
    "    print('enter element at index',i)\n",
    "    a1[i]=int(input())\n"
   ]
  },
  {
   "cell_type": "code",
   "execution_count": 2,
   "id": "a775edbc",
   "metadata": {},
   "outputs": [
    {
     "name": "stdout",
     "output_type": "stream",
     "text": [
      "no. u want to search 45\n"
     ]
    },
    {
     "data": {
      "text/plain": [
       "array([23, 43, 45, 65, 78, 98, 67, 98,  9, 56])"
      ]
     },
     "execution_count": 2,
     "metadata": {},
     "output_type": "execute_result"
    }
   ],
   "source": [
    "x=int(input('no. u want to search '))\n",
    "a1"
   ]
  },
  {
   "cell_type": "code",
   "execution_count": 3,
   "id": "b35a98c9",
   "metadata": {},
   "outputs": [
    {
     "name": "stdout",
     "output_type": "stream",
     "text": [
      "element is present at index  2\n"
     ]
    }
   ],
   "source": [
    "c=0\n",
    "for i in range(0,n):\n",
    "    if(a1[i]==x):\n",
    "        print('element is present at index ',i)\n",
    "        c=1\n",
    "        break\n",
    "if(c==0):\n",
    "    print('element not found')"
   ]
  },
  {
   "cell_type": "code",
   "execution_count": 4,
   "id": "5a1d66b7",
   "metadata": {},
   "outputs": [],
   "source": [
    "s=np.where(a1==x)"
   ]
  },
  {
   "cell_type": "code",
   "execution_count": 5,
   "id": "6ca82036",
   "metadata": {},
   "outputs": [
    {
     "name": "stdout",
     "output_type": "stream",
     "text": [
      "(array([2], dtype=int64),)\n"
     ]
    }
   ],
   "source": [
    "print(s)"
   ]
  },
  {
   "cell_type": "code",
   "execution_count": 6,
   "id": "20bb5e7a",
   "metadata": {},
   "outputs": [
    {
     "name": "stdout",
     "output_type": "stream",
     "text": [
      "[23 43 45 65 78 98 67 98  9 56]\n"
     ]
    }
   ],
   "source": [
    "a2=np.sort(a1)\n",
    "print(a1)"
   ]
  },
  {
   "cell_type": "code",
   "execution_count": 7,
   "id": "843533d9",
   "metadata": {},
   "outputs": [
    {
     "name": "stdout",
     "output_type": "stream",
     "text": [
      "[ 9 23 43 45 56 65 67 78 98 98]\n"
     ]
    }
   ],
   "source": [
    "print(a2)"
   ]
  },
  {
   "cell_type": "code",
   "execution_count": 8,
   "id": "d3f748aa",
   "metadata": {},
   "outputs": [
    {
     "name": "stdout",
     "output_type": "stream",
     "text": [
      "98\n"
     ]
    }
   ],
   "source": [
    "lar=a2[len(a2)-1]\n",
    "print(lar)"
   ]
  },
  {
   "cell_type": "code",
   "execution_count": 9,
   "id": "9e20258e",
   "metadata": {},
   "outputs": [
    {
     "name": "stdout",
     "output_type": "stream",
     "text": [
      "9\n"
     ]
    }
   ],
   "source": [
    "sma=a2[0]\n",
    "print(sma)"
   ]
  },
  {
   "cell_type": "code",
   "execution_count": 10,
   "id": "78d3872e",
   "metadata": {},
   "outputs": [],
   "source": [
    "a3=a1[::-1]"
   ]
  },
  {
   "cell_type": "code",
   "execution_count": 11,
   "id": "4e68caad",
   "metadata": {},
   "outputs": [
    {
     "name": "stdout",
     "output_type": "stream",
     "text": [
      "[56  9 98 67 98 78 65 45 43 23]\n"
     ]
    }
   ],
   "source": [
    "print(a3)"
   ]
  },
  {
   "cell_type": "code",
   "execution_count": 12,
   "id": "c363b817",
   "metadata": {},
   "outputs": [
    {
     "name": "stdout",
     "output_type": "stream",
     "text": [
      "enter rotation pt.\n",
      "3\n"
     ]
    }
   ],
   "source": [
    "print('enter rotation pt.')\n",
    "k=int(input())"
   ]
  },
  {
   "cell_type": "code",
   "execution_count": 13,
   "id": "3d3b7330",
   "metadata": {},
   "outputs": [],
   "source": [
    "a4=a1[0:k]"
   ]
  },
  {
   "cell_type": "code",
   "execution_count": 14,
   "id": "76cc7bd1",
   "metadata": {},
   "outputs": [
    {
     "name": "stdout",
     "output_type": "stream",
     "text": [
      "[23 43 45]\n"
     ]
    }
   ],
   "source": [
    "print(a4)"
   ]
  },
  {
   "cell_type": "code",
   "execution_count": 15,
   "id": "f7fc0c25",
   "metadata": {},
   "outputs": [],
   "source": [
    "a5=a1[k:n]"
   ]
  },
  {
   "cell_type": "code",
   "execution_count": 16,
   "id": "e66630eb",
   "metadata": {},
   "outputs": [
    {
     "name": "stdout",
     "output_type": "stream",
     "text": [
      "[65 78 98 67 98  9 56]\n"
     ]
    }
   ],
   "source": [
    "print(a5)"
   ]
  },
  {
   "cell_type": "code",
   "execution_count": 17,
   "id": "a8536ad4",
   "metadata": {},
   "outputs": [],
   "source": [
    "a=np.concatenate((a5, a4))"
   ]
  },
  {
   "cell_type": "code",
   "execution_count": 18,
   "id": "7aaebae9",
   "metadata": {},
   "outputs": [
    {
     "name": "stdout",
     "output_type": "stream",
     "text": [
      "[65 78 98 67 98  9 56 23 43 45]\n"
     ]
    }
   ],
   "source": [
    "print(a)"
   ]
  },
  {
   "cell_type": "code",
   "execution_count": 19,
   "id": "b9ce1821",
   "metadata": {},
   "outputs": [],
   "source": [
    "#rotating a func by kth posi"
   ]
  },
  {
   "cell_type": "code",
   "execution_count": 20,
   "id": "58518af9",
   "metadata": {},
   "outputs": [],
   "source": [
    "def rotate(arr,n,k):\n",
    "    k=k%n\n",
    "    for i in range(k):\n",
    "        t=arr[n-1]\n",
    "        for j in range(n-1,0,-1):\n",
    "            arr[j]=arr[j-1]\n",
    "        arr[0]=t\n",
    "    return arr\n"
   ]
  },
  {
   "cell_type": "code",
   "execution_count": 23,
   "id": "62fb8dde",
   "metadata": {},
   "outputs": [
    {
     "name": "stdout",
     "output_type": "stream",
     "text": [
      "enter rotation pt.\n",
      "3\n"
     ]
    }
   ],
   "source": [
    "print('enter rotation pt.')\n",
    "kr=int(input())\n"
   ]
  },
  {
   "cell_type": "code",
   "execution_count": 24,
   "id": "05fe8eab",
   "metadata": {},
   "outputs": [],
   "source": [
    "ar=a1[0:k]"
   ]
  },
  {
   "cell_type": "code",
   "execution_count": 25,
   "id": "d2c7c9cd",
   "metadata": {},
   "outputs": [],
   "source": [
    "ar=ar[::-1]"
   ]
  },
  {
   "cell_type": "code",
   "execution_count": 27,
   "id": "e7cadd71",
   "metadata": {},
   "outputs": [],
   "source": [
    "ar1=a1[k:n]"
   ]
  },
  {
   "cell_type": "markdown",
   "id": "6dc9a54a",
   "metadata": {},
   "source": [
    "##### "
   ]
  },
  {
   "cell_type": "code",
   "execution_count": 28,
   "id": "203897c5",
   "metadata": {},
   "outputs": [],
   "source": [
    "arr=np.concatenate((ar1, ar))"
   ]
  },
  {
   "cell_type": "code",
   "execution_count": 29,
   "id": "69fd3663",
   "metadata": {},
   "outputs": [
    {
     "name": "stdout",
     "output_type": "stream",
     "text": [
      "[65 78 98 67 98  9 56 45 43 23]\n"
     ]
    }
   ],
   "source": [
    "print(arr)"
   ]
  },
  {
   "cell_type": "code",
   "execution_count": 39,
   "id": "b9728452",
   "metadata": {},
   "outputs": [
    {
     "data": {
      "text/plain": [
       "array([45, 65, 78, 98, 56, 67, 98,  9, 23, 43])"
      ]
     },
     "execution_count": 39,
     "metadata": {},
     "output_type": "execute_result"
    }
   ],
   "source": [
    "a1\n"
   ]
  },
  {
   "cell_type": "code",
   "execution_count": 40,
   "id": "c5c0b0c2",
   "metadata": {},
   "outputs": [],
   "source": [
    "ar\n",
    "a8=a1"
   ]
  },
  {
   "cell_type": "code",
   "execution_count": 41,
   "id": "c149aed7",
   "metadata": {},
   "outputs": [
    {
     "name": "stdout",
     "output_type": "stream",
     "text": [
      "[ 9 23 43 45 65 78 98 56 67 98]\n"
     ]
    }
   ],
   "source": [
    "print(rotate(a8,len(a2),3))"
   ]
  },
  {
   "cell_type": "code",
   "execution_count": null,
   "id": "02d4f2ce",
   "metadata": {},
   "outputs": [],
   "source": []
  }
 ],
 "metadata": {
  "kernelspec": {
   "display_name": "Python 3 (ipykernel)",
   "language": "python",
   "name": "python3"
  },
  "language_info": {
   "codemirror_mode": {
    "name": "ipython",
    "version": 3
   },
   "file_extension": ".py",
   "mimetype": "text/x-python",
   "name": "python",
   "nbconvert_exporter": "python",
   "pygments_lexer": "ipython3",
   "version": "3.9.13"
  }
 },
 "nbformat": 4,
 "nbformat_minor": 5
}
