{
 "cells": [
  {
   "cell_type": "code",
   "execution_count": 1,
   "id": "7c61abf4",
   "metadata": {},
   "outputs": [
    {
     "data": {
      "text/plain": [
       "int"
      ]
     },
     "execution_count": 1,
     "metadata": {},
     "output_type": "execute_result"
    }
   ],
   "source": [
    "#data types\n",
    "#int\n",
    "type(7)"
   ]
  },
  {
   "cell_type": "code",
   "execution_count": 2,
   "id": "0c93889f",
   "metadata": {},
   "outputs": [
    {
     "name": "stdout",
     "output_type": "stream",
     "text": [
      "hello world\n"
     ]
    }
   ],
   "source": [
    "print(\"hello world\")"
   ]
  },
  {
   "cell_type": "code",
   "execution_count": 3,
   "id": "717d64cd",
   "metadata": {},
   "outputs": [
    {
     "data": {
      "text/plain": [
       "float"
      ]
     },
     "execution_count": 3,
     "metadata": {},
     "output_type": "execute_result"
    }
   ],
   "source": [
    "type(9.0)"
   ]
  },
  {
   "cell_type": "code",
   "execution_count": 4,
   "id": "99935d85",
   "metadata": {},
   "outputs": [
    {
     "data": {
      "text/plain": [
       "str"
      ]
     },
     "execution_count": 4,
     "metadata": {},
     "output_type": "execute_result"
    }
   ],
   "source": [
    "type('hello')"
   ]
  },
  {
   "cell_type": "code",
   "execution_count": 5,
   "id": "3d3149b8",
   "metadata": {},
   "outputs": [
    {
     "data": {
      "text/plain": [
       "str"
      ]
     },
     "execution_count": 5,
     "metadata": {},
     "output_type": "execute_result"
    }
   ],
   "source": [
    "type(\"hello\")\n"
   ]
  },
  {
   "cell_type": "code",
   "execution_count": 8,
   "id": "f404ef92",
   "metadata": {},
   "outputs": [
    {
     "data": {
      "text/plain": [
       "str"
      ]
     },
     "execution_count": 8,
     "metadata": {},
     "output_type": "execute_result"
    }
   ],
   "source": [
    "type('True')"
   ]
  },
  {
   "cell_type": "code",
   "execution_count": 7,
   "id": "968411cf",
   "metadata": {},
   "outputs": [
    {
     "data": {
      "text/plain": [
       "bool"
      ]
     },
     "execution_count": 7,
     "metadata": {},
     "output_type": "execute_result"
    }
   ],
   "source": [
    "type(True)"
   ]
  },
  {
   "cell_type": "code",
   "execution_count": 9,
   "id": "3c1d5aed",
   "metadata": {},
   "outputs": [
    {
     "ename": "SyntaxError",
     "evalue": "invalid syntax (4024571387.py, line 1)",
     "output_type": "error",
     "traceback": [
      "\u001b[1;36m  File \u001b[1;32m\"C:\\Users\\91863\\AppData\\Local\\Temp\\ipykernel_15092\\4024571387.py\"\u001b[1;36m, line \u001b[1;32m1\u001b[0m\n\u001b[1;33m    type(3+5i)\u001b[0m\n\u001b[1;37m            ^\u001b[0m\n\u001b[1;31mSyntaxError\u001b[0m\u001b[1;31m:\u001b[0m invalid syntax\n"
     ]
    }
   ],
   "source": [
    "type(3+5i)"
   ]
  },
  {
   "cell_type": "code",
   "execution_count": 10,
   "id": "c0a6d89c",
   "metadata": {},
   "outputs": [
    {
     "data": {
      "text/plain": [
       "complex"
      ]
     },
     "execution_count": 10,
     "metadata": {},
     "output_type": "execute_result"
    }
   ],
   "source": [
    "type(4+5j)"
   ]
  },
  {
   "cell_type": "code",
   "execution_count": 11,
   "id": "5a853ec6",
   "metadata": {},
   "outputs": [
    {
     "name": "stdout",
     "output_type": "stream",
     "text": [
      "(11+10j)\n"
     ]
    }
   ],
   "source": [
    "print((5+6j)+(6+4j))"
   ]
  },
  {
   "cell_type": "code",
   "execution_count": 14,
   "id": "7d765302",
   "metadata": {},
   "outputs": [
    {
     "name": "stdout",
     "output_type": "stream",
     "text": [
      "6.111111111111111\n"
     ]
    }
   ],
   "source": [
    "#for normal division\n",
    "print(55/9)"
   ]
  },
  {
   "cell_type": "code",
   "execution_count": 13,
   "id": "cbb93168",
   "metadata": {},
   "outputs": [
    {
     "name": "stdout",
     "output_type": "stream",
     "text": [
      "6\n"
     ]
    }
   ],
   "source": [
    "#for floor division\n",
    "print(55//9)"
   ]
  },
  {
   "cell_type": "code",
   "execution_count": 16,
   "id": "d12bb850",
   "metadata": {},
   "outputs": [
    {
     "name": "stdout",
     "output_type": "stream",
     "text": [
      "3\n"
     ]
    }
   ],
   "source": [
    "#modulo func\n",
    "print(7%4)"
   ]
  },
  {
   "cell_type": "markdown",
   "id": "ed56e593",
   "metadata": {},
   "source": []
  },
  {
   "cell_type": "code",
   "execution_count": 19,
   "id": "e12efce5",
   "metadata": {},
   "outputs": [
    {
     "data": {
      "text/plain": [
       "int"
      ]
     },
     "execution_count": 19,
     "metadata": {},
     "output_type": "execute_result"
    }
   ],
   "source": [
    "#assignment operator\n",
    "x=80\n",
    "x\n",
    "type(x)"
   ]
  },
  {
   "cell_type": "code",
   "execution_count": 20,
   "id": "dc3e4666",
   "metadata": {},
   "outputs": [],
   "source": [
    "x=\"each\""
   ]
  },
  {
   "cell_type": "code",
   "execution_count": 21,
   "id": "fc678d4e",
   "metadata": {},
   "outputs": [
    {
     "data": {
      "text/plain": [
       "str"
      ]
     },
     "execution_count": 21,
     "metadata": {},
     "output_type": "execute_result"
    }
   ],
   "source": [
    "type(x)"
   ]
  },
  {
   "cell_type": "code",
   "execution_count": 1,
   "id": "a1f2aac0",
   "metadata": {},
   "outputs": [
    {
     "name": "stdout",
     "output_type": "stream",
     "text": [
      "60\n",
      "60\n",
      "60.0\n",
      "True\n",
      "60\n"
     ]
    }
   ],
   "source": [
    "x=60\n",
    "print(int(x))\n",
    "print(x)\n",
    "print(float(x))\n",
    "print(bool(x))\n",
    "print(str(x))\n"
   ]
  },
  {
   "cell_type": "code",
   "execution_count": 2,
   "id": "5621bcef",
   "metadata": {},
   "outputs": [
    {
     "name": "stdout",
     "output_type": "stream",
     "text": [
      "False\n"
     ]
    }
   ],
   "source": [
    "print(bool(0))"
   ]
  },
  {
   "cell_type": "code",
   "execution_count": 3,
   "id": "92b970b1",
   "metadata": {},
   "outputs": [],
   "source": [
    "#print(bool(\"\"))=0,print(bool(\"re\"))!=0"
   ]
  },
  {
   "cell_type": "code",
   "execution_count": 4,
   "id": "c8959dad",
   "metadata": {},
   "outputs": [],
   "source": [
    "x=str(x)"
   ]
  },
  {
   "cell_type": "code",
   "execution_count": 5,
   "id": "a1c4ce65",
   "metadata": {},
   "outputs": [
    {
     "name": "stdout",
     "output_type": "stream",
     "text": [
      "60\n"
     ]
    },
    {
     "data": {
      "text/plain": [
       "str"
      ]
     },
     "execution_count": 5,
     "metadata": {},
     "output_type": "execute_result"
    }
   ],
   "source": [
    "print(x)\n",
    "type(x)"
   ]
  },
  {
   "cell_type": "code",
   "execution_count": 1,
   "id": "9923fe0e",
   "metadata": {},
   "outputs": [],
   "source": [
    "#conditional statements"
   ]
  },
  {
   "cell_type": "code",
   "execution_count": 2,
   "id": "100b4eef",
   "metadata": {},
   "outputs": [],
   "source": [
    "#dynamically type language"
   ]
  },
  {
   "cell_type": "code",
   "execution_count": 6,
   "id": "961c8d7e",
   "metadata": {},
   "outputs": [
    {
     "name": "stdout",
     "output_type": "stream",
     "text": [
      "a<b\n",
      "machine learning\n"
     ]
    }
   ],
   "source": [
    "a=20\n",
    "b=22\n",
    "if a<b:\n",
    " print('a<b')\n",
    "print('machine learning')"
   ]
  },
  {
   "cell_type": "code",
   "execution_count": 7,
   "id": "d70918e6",
   "metadata": {},
   "outputs": [
    {
     "name": "stdout",
     "output_type": "stream",
     "text": [
      "machine learning\n"
     ]
    }
   ],
   "source": [
    "a=20\n",
    "b=22\n",
    "if a>b:\n",
    " print('a<b')\n",
    "print('machine learning')"
   ]
  },
  {
   "cell_type": "code",
   "execution_count": 19,
   "id": "ce603ff8",
   "metadata": {},
   "outputs": [
    {
     "name": "stdout",
     "output_type": "stream",
     "text": [
      "a>b\n",
      ">\n",
      "done\n"
     ]
    }
   ],
   "source": [
    "a=233\n",
    "b=29\n",
    "if a<b:\n",
    "    print(\"a<b\")\n",
    "    print(\"<\")\n",
    "else:\n",
    "    print(\"a>b\")\n",
    "    \n",
    "    print(\">\")\n",
    "print(\"done\")    "
   ]
  },
  {
   "cell_type": "code",
   "execution_count": 22,
   "id": "b77acb0c",
   "metadata": {},
   "outputs": [
    {
     "name": "stdout",
     "output_type": "stream",
     "text": [
      "a<b\n",
      "<\n",
      "done\n"
     ]
    }
   ],
   "source": [
    "a=23\n",
    "b=29\n",
    "if a<b:\n",
    "    print(\"a<b\")\n",
    "    print(\"<\")\n",
    "elif a>b:\n",
    "    print(\"a>b\")\n",
    "    \n",
    "    print(\">\")\n",
    "else :\n",
    "    print(\"equal\")\n",
    "    print(\"=\")\n",
    "print(\"done\")    "
   ]
  },
  {
   "cell_type": "code",
   "execution_count": 23,
   "id": "6b8bedc0",
   "metadata": {},
   "outputs": [],
   "source": [
    "#else if in python is elif"
   ]
  },
  {
   "cell_type": "code",
   "execution_count": 34,
   "id": "f17da5d4",
   "metadata": {},
   "outputs": [
    {
     "name": "stdout",
     "output_type": "stream",
     "text": [
      "true\n"
     ]
    }
   ],
   "source": [
    "a=200\n",
    "b=300\n",
    "c=300\n",
    "if a<b and b==c:\n",
    "    print(\"true\")"
   ]
  },
  {
   "cell_type": "code",
   "execution_count": 35,
   "id": "591c2927",
   "metadata": {},
   "outputs": [
    {
     "name": "stdout",
     "output_type": "stream",
     "text": [
      "more than 10\n",
      "more than 100\n"
     ]
    }
   ],
   "source": [
    "if a>10:\n",
    "    print(\"more than 10\")\n",
    "    if a>100:\n",
    "        print(\"more than 100\")\n",
    "    else:\n",
    "        print(\">10 but <100\")\n",
    "else:\n",
    "    print(\"less than 10\")"
   ]
  },
  {
   "cell_type": "code",
   "execution_count": 40,
   "id": "782ce9b3",
   "metadata": {},
   "outputs": [
    {
     "name": "stdout",
     "output_type": "stream",
     "text": [
      "67\n",
      "<class 'int'>\n"
     ]
    }
   ],
   "source": [
    "x=int(input())\n",
    "x\n",
    "\n",
    "print(type(x))"
   ]
  },
  {
   "cell_type": "code",
   "execution_count": 45,
   "id": "67701b9f",
   "metadata": {},
   "outputs": [
    {
     "name": "stdout",
     "output_type": "stream",
     "text": [
      "34\n",
      "54\n",
      "34\n",
      "b is greatest\n"
     ]
    }
   ],
   "source": [
    "a=int(input())\n",
    "b=int(input())\n",
    "c=int(input())\n",
    "if a>b and a>c:\n",
    "    print(\"a is greatest\")\n",
    "elif b>c:\n",
    "    print(\"b is greatest\")\n",
    "else:\n",
    "    print(\"c is graetest\")"
   ]
  },
  {
   "cell_type": "code",
   "execution_count": 47,
   "id": "82c4b186",
   "metadata": {},
   "outputs": [],
   "source": [
    "#loop\n",
    "#while"
   ]
  },
  {
   "cell_type": "code",
   "execution_count": 50,
   "id": "ac55a35b",
   "metadata": {},
   "outputs": [
    {
     "name": "stdout",
     "output_type": "stream",
     "text": [
      "1\n",
      "2\n",
      "3\n",
      "4\n",
      "5\n"
     ]
    }
   ],
   "source": [
    "i=1\n",
    "while i<6:\n",
    "    print(i)\n",
    "    i+=1"
   ]
  },
  {
   "cell_type": "code",
   "execution_count": null,
   "id": "427aa4f8",
   "metadata": {},
   "outputs": [],
   "source": []
  }
 ],
 "metadata": {
  "kernelspec": {
   "display_name": "Python 3 (ipykernel)",
   "language": "python",
   "name": "python3"
  },
  "language_info": {
   "codemirror_mode": {
    "name": "ipython",
    "version": 3
   },
   "file_extension": ".py",
   "mimetype": "text/x-python",
   "name": "python",
   "nbconvert_exporter": "python",
   "pygments_lexer": "ipython3",
   "version": "3.9.13"
  }
 },
 "nbformat": 4,
 "nbformat_minor": 5
}
