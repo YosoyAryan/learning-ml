{
 "cells": [
  {
   "cell_type": "code",
   "execution_count": 1,
   "id": "a74516ba",
   "metadata": {},
   "outputs": [],
   "source": [
    "def add(a,b):\n",
    "    print(a+b)"
   ]
  },
  {
   "cell_type": "code",
   "execution_count": 5,
   "id": "e2bbb08c",
   "metadata": {},
   "outputs": [
    {
     "name": "stdout",
     "output_type": "stream",
     "text": [
      "1213.0\n"
     ]
    }
   ],
   "source": [
    "add('12','13.0')"
   ]
  },
  {
   "cell_type": "code",
   "execution_count": 3,
   "id": "0b0d7e8e",
   "metadata": {},
   "outputs": [],
   "source": [
    "#fn using return"
   ]
  },
  {
   "cell_type": "code",
   "execution_count": 8,
   "id": "aa563a04",
   "metadata": {},
   "outputs": [],
   "source": [
    "def add1(a,b):\n",
    "    return a+b"
   ]
  },
  {
   "cell_type": "code",
   "execution_count": 9,
   "id": "5858a84c",
   "metadata": {},
   "outputs": [
    {
     "data": {
      "text/plain": [
       "25"
      ]
     },
     "execution_count": 9,
     "metadata": {},
     "output_type": "execute_result"
    }
   ],
   "source": [
    "add1(12,13)"
   ]
  },
  {
   "cell_type": "code",
   "execution_count": 10,
   "id": "63a5cf86",
   "metadata": {},
   "outputs": [
    {
     "ename": "IndentationError",
     "evalue": "expected an indented block (1001838688.py, line 1)",
     "output_type": "error",
     "traceback": [
      "\u001b[1;36m  File \u001b[1;32m\"C:\\Users\\91863\\AppData\\Local\\Temp\\ipykernel_30100\\1001838688.py\"\u001b[1;36m, line \u001b[1;32m1\u001b[0m\n\u001b[1;33m    def add4(a,b):\u001b[0m\n\u001b[1;37m                  ^\u001b[0m\n\u001b[1;31mIndentationError\u001b[0m\u001b[1;31m:\u001b[0m expected an indented block\n"
     ]
    }
   ],
   "source": [
    "def add4(a,b):"
   ]
  },
  {
   "cell_type": "code",
   "execution_count": 11,
   "id": "72666803",
   "metadata": {},
   "outputs": [],
   "source": [
    "#print a no. is prime or not"
   ]
  },
  {
   "cell_type": "code",
   "execution_count": 48,
   "id": "ab687a78",
   "metadata": {},
   "outputs": [],
   "source": [
    "def prime():\n",
    "    \n",
    "    co=0\n",
    "    for j in range(2,100):\n",
    "        c=1\n",
    "        \n",
    "        for i in range(2,j//2+1):\n",
    "            if(j%i==0):\n",
    "                c+=1\n",
    "                break\n",
    "        if(c==1) :  \n",
    "            co+=1    \n",
    "    return co  "
   ]
  },
  {
   "cell_type": "code",
   "execution_count": 49,
   "id": "0d536f5e",
   "metadata": {},
   "outputs": [],
   "source": [
    "#x=int(input(\"input the no.\"))\n",
    "#if(prime(x)==1):\n",
    " #   print('prime')\n",
    "#else:\n",
    " #   print(\"not prime\")"
   ]
  },
  {
   "cell_type": "code",
   "execution_count": 50,
   "id": "0092e976",
   "metadata": {},
   "outputs": [
    {
     "data": {
      "text/plain": [
       "25"
      ]
     },
     "execution_count": 50,
     "metadata": {},
     "output_type": "execute_result"
    }
   ],
   "source": [
    "prime()"
   ]
  },
  {
   "cell_type": "code",
   "execution_count": null,
   "id": "1577ba2b",
   "metadata": {},
   "outputs": [],
   "source": []
  },
  {
   "cell_type": "code",
   "execution_count": null,
   "id": "58fdd315",
   "metadata": {},
   "outputs": [],
   "source": []
  }
 ],
 "metadata": {
  "kernelspec": {
   "display_name": "Python 3 (ipykernel)",
   "language": "python",
   "name": "python3"
  },
  "language_info": {
   "codemirror_mode": {
    "name": "ipython",
    "version": 3
   },
   "file_extension": ".py",
   "mimetype": "text/x-python",
   "name": "python",
   "nbconvert_exporter": "python",
   "pygments_lexer": "ipython3",
   "version": "3.9.13"
  }
 },
 "nbformat": 4,
 "nbformat_minor": 5
}
