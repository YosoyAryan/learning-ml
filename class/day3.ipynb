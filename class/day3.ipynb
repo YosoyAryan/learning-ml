{
 "cells": [
  {
   "cell_type": "code",
   "execution_count": 3,
   "id": "44b72439",
   "metadata": {},
   "outputs": [
    {
     "name": "stdout",
     "output_type": "stream",
     "text": [
      "1\n",
      "2\n",
      "3\n",
      "4\n",
      "5\n",
      "6\n",
      "7\n",
      "8\n",
      "9\n"
     ]
    }
   ],
   "source": [
    "for i in range(1,10):\n",
    "    print(i)\n",
    "    "
   ]
  },
  {
   "cell_type": "code",
   "execution_count": 2,
   "id": "6e0f1ed4",
   "metadata": {},
   "outputs": [],
   "source": [
    "#for loop\n"
   ]
  },
  {
   "cell_type": "code",
   "execution_count": 4,
   "id": "e8b4cfdc",
   "metadata": {},
   "outputs": [],
   "source": [
    "#data structures"
   ]
  },
  {
   "cell_type": "code",
   "execution_count": 5,
   "id": "153414c9",
   "metadata": {},
   "outputs": [],
   "source": [
    "#lists"
   ]
  },
  {
   "cell_type": "code",
   "execution_count": 97,
   "id": "e28c0948",
   "metadata": {},
   "outputs": [],
   "source": [
    "list=[40]"
   ]
  },
  {
   "cell_type": "code",
   "execution_count": 98,
   "id": "3665f6eb",
   "metadata": {},
   "outputs": [
    {
     "data": {
      "text/plain": [
       "[40, 10]"
      ]
     },
     "execution_count": 98,
     "metadata": {},
     "output_type": "execute_result"
    }
   ],
   "source": [
    "list.append(10)\n",
    "list"
   ]
  },
  {
   "cell_type": "code",
   "execution_count": 9,
   "id": "5df4d8aa",
   "metadata": {},
   "outputs": [],
   "source": [
    "list.append(20)"
   ]
  },
  {
   "cell_type": "code",
   "execution_count": 10,
   "id": "651488e6",
   "metadata": {},
   "outputs": [
    {
     "data": {
      "text/plain": [
       "[10, 10, 20]"
      ]
     },
     "execution_count": 10,
     "metadata": {},
     "output_type": "execute_result"
    }
   ],
   "source": [
    "list"
   ]
  },
  {
   "cell_type": "code",
   "execution_count": 11,
   "id": "03805ddc",
   "metadata": {},
   "outputs": [
    {
     "data": {
      "text/plain": [
       "[10, 10, 20, 'innogeeks']"
      ]
     },
     "execution_count": 11,
     "metadata": {},
     "output_type": "execute_result"
    }
   ],
   "source": [
    "list.append(\"innogeeks\")\n",
    "list"
   ]
  },
  {
   "cell_type": "code",
   "execution_count": 12,
   "id": "c8954174",
   "metadata": {},
   "outputs": [],
   "source": [
    "#lists dynamically allocates memory"
   ]
  },
  {
   "cell_type": "code",
   "execution_count": 13,
   "id": "0b55efee",
   "metadata": {},
   "outputs": [],
   "source": [
    "#insert fn"
   ]
  },
  {
   "cell_type": "code",
   "execution_count": 14,
   "id": "25332224",
   "metadata": {},
   "outputs": [],
   "source": [
    "list.insert(2,200)"
   ]
  },
  {
   "cell_type": "code",
   "execution_count": 15,
   "id": "38d6aa49",
   "metadata": {},
   "outputs": [
    {
     "data": {
      "text/plain": [
       "[10, 10, 200, 20, 'innogeeks']"
      ]
     },
     "execution_count": 15,
     "metadata": {},
     "output_type": "execute_result"
    }
   ],
   "source": [
    "list"
   ]
  },
  {
   "cell_type": "code",
   "execution_count": 16,
   "id": "727124f4",
   "metadata": {},
   "outputs": [],
   "source": [
    "list.insert(222,22)"
   ]
  },
  {
   "cell_type": "code",
   "execution_count": 17,
   "id": "5d6d68d5",
   "metadata": {},
   "outputs": [
    {
     "data": {
      "text/plain": [
       "[10, 10, 200, 20, 'innogeeks', 22]"
      ]
     },
     "execution_count": 17,
     "metadata": {},
     "output_type": "execute_result"
    }
   ],
   "source": [
    "list"
   ]
  },
  {
   "cell_type": "code",
   "execution_count": 18,
   "id": "ce257488",
   "metadata": {},
   "outputs": [],
   "source": [
    "list.insert(-3,2)"
   ]
  },
  {
   "cell_type": "code",
   "execution_count": 19,
   "id": "59205bbe",
   "metadata": {},
   "outputs": [
    {
     "data": {
      "text/plain": [
       "[10, 10, 200, 2, 20, 'innogeeks', 22]"
      ]
     },
     "execution_count": 19,
     "metadata": {},
     "output_type": "execute_result"
    }
   ],
   "source": [
    "list"
   ]
  },
  {
   "cell_type": "code",
   "execution_count": 20,
   "id": "5783727e",
   "metadata": {},
   "outputs": [
    {
     "data": {
      "text/plain": [
       "22"
      ]
     },
     "execution_count": 20,
     "metadata": {},
     "output_type": "execute_result"
    }
   ],
   "source": [
    "list.pop()"
   ]
  },
  {
   "cell_type": "code",
   "execution_count": 21,
   "id": "ef4d4f17",
   "metadata": {},
   "outputs": [
    {
     "data": {
      "text/plain": [
       "'innogeeks'"
      ]
     },
     "execution_count": 21,
     "metadata": {},
     "output_type": "execute_result"
    }
   ],
   "source": [
    "list.pop()"
   ]
  },
  {
   "cell_type": "code",
   "execution_count": 22,
   "id": "38f28f61",
   "metadata": {},
   "outputs": [
    {
     "data": {
      "text/plain": [
       "200"
      ]
     },
     "execution_count": 22,
     "metadata": {},
     "output_type": "execute_result"
    }
   ],
   "source": [
    "list.pop(2)"
   ]
  },
  {
   "cell_type": "code",
   "execution_count": 23,
   "id": "adaf5e9b",
   "metadata": {},
   "outputs": [
    {
     "data": {
      "text/plain": [
       "[10, 10, 2, 20]"
      ]
     },
     "execution_count": 23,
     "metadata": {},
     "output_type": "execute_result"
    }
   ],
   "source": [
    "list"
   ]
  },
  {
   "cell_type": "code",
   "execution_count": 24,
   "id": "d8570d45",
   "metadata": {},
   "outputs": [],
   "source": [
    "#append() insert() pop()"
   ]
  },
  {
   "cell_type": "code",
   "execution_count": 25,
   "id": "1bf2f4fd",
   "metadata": {},
   "outputs": [
    {
     "data": {
      "text/plain": [
       "[10, 10, 2, 20]"
      ]
     },
     "execution_count": 25,
     "metadata": {},
     "output_type": "execute_result"
    }
   ],
   "source": [
    "list\n"
   ]
  },
  {
   "cell_type": "code",
   "execution_count": 26,
   "id": "f6b43de1",
   "metadata": {},
   "outputs": [],
   "source": [
    "list.sort()"
   ]
  },
  {
   "cell_type": "code",
   "execution_count": 27,
   "id": "fcc4cac2",
   "metadata": {},
   "outputs": [
    {
     "data": {
      "text/plain": [
       "[2, 10, 10, 20]"
      ]
     },
     "execution_count": 27,
     "metadata": {},
     "output_type": "execute_result"
    }
   ],
   "source": [
    "list"
   ]
  },
  {
   "cell_type": "code",
   "execution_count": 28,
   "id": "938a9698",
   "metadata": {},
   "outputs": [],
   "source": [
    "#for sort() to work data types dshould be same"
   ]
  },
  {
   "cell_type": "code",
   "execution_count": 29,
   "id": "f84a9d49",
   "metadata": {},
   "outputs": [
    {
     "data": {
      "text/plain": [
       "[20, 10, 10, 2]"
      ]
     },
     "execution_count": 29,
     "metadata": {},
     "output_type": "execute_result"
    }
   ],
   "source": [
    "list.sort(reverse=True)\n",
    "list"
   ]
  },
  {
   "cell_type": "code",
   "execution_count": 39,
   "id": "2eb3ba23",
   "metadata": {},
   "outputs": [],
   "source": [
    "list2=[\"cat\",\"bttt\",\"hatt\"]"
   ]
  },
  {
   "cell_type": "code",
   "execution_count": 40,
   "id": "e213205b",
   "metadata": {},
   "outputs": [],
   "source": [
    "list2.sort()"
   ]
  },
  {
   "cell_type": "code",
   "execution_count": 41,
   "id": "bd1cbafc",
   "metadata": {},
   "outputs": [
    {
     "data": {
      "text/plain": [
       "['bttt', 'cat', 'hatt']"
      ]
     },
     "execution_count": 41,
     "metadata": {},
     "output_type": "execute_result"
    }
   ],
   "source": [
    "list2"
   ]
  },
  {
   "cell_type": "code",
   "execution_count": 42,
   "id": "43af4b20",
   "metadata": {},
   "outputs": [],
   "source": [
    "list2.sort(key=len)"
   ]
  },
  {
   "cell_type": "code",
   "execution_count": 43,
   "id": "28228ce1",
   "metadata": {},
   "outputs": [
    {
     "data": {
      "text/plain": [
       "['cat', 'bttt', 'hatt']"
      ]
     },
     "execution_count": 43,
     "metadata": {},
     "output_type": "execute_result"
    }
   ],
   "source": [
    "list2"
   ]
  },
  {
   "cell_type": "code",
   "execution_count": 47,
   "id": "ad5e3d34",
   "metadata": {},
   "outputs": [],
   "source": [
    "list2.sort(reverse=True)"
   ]
  },
  {
   "cell_type": "code",
   "execution_count": 49,
   "id": "ce5ca9a3",
   "metadata": {},
   "outputs": [],
   "source": [
    "#list2.sort(key=len)(reverse=True) is not valid"
   ]
  },
  {
   "cell_type": "code",
   "execution_count": 50,
   "id": "f4040386",
   "metadata": {},
   "outputs": [
    {
     "data": {
      "text/plain": [
       "['hatt', 'cat', 'bttt']"
      ]
     },
     "execution_count": 50,
     "metadata": {},
     "output_type": "execute_result"
    }
   ],
   "source": [
    "list2"
   ]
  },
  {
   "cell_type": "code",
   "execution_count": 54,
   "id": "65b4a095",
   "metadata": {},
   "outputs": [
    {
     "data": {
      "text/plain": [
       "[1, 4, 9, 16, 25, 36, 49, 64, 81, 100]"
      ]
     },
     "execution_count": 54,
     "metadata": {},
     "output_type": "execute_result"
    }
   ],
   "source": [
    "list3=[]\n",
    "for i in range(1,11):\n",
    "    list3.append(i**2)\n",
    "list3    "
   ]
  },
  {
   "cell_type": "code",
   "execution_count": 57,
   "id": "da4c12cf",
   "metadata": {},
   "outputs": [],
   "source": [
    "list3=[x**3 for x in range(1,11)]#list comprehension"
   ]
  },
  {
   "cell_type": "code",
   "execution_count": 58,
   "id": "f95bba84",
   "metadata": {},
   "outputs": [
    {
     "data": {
      "text/plain": [
       "[1, 8, 27, 64, 125, 216, 343, 512, 729, 1000]"
      ]
     },
     "execution_count": 58,
     "metadata": {},
     "output_type": "execute_result"
    }
   ],
   "source": [
    "list3"
   ]
  },
  {
   "cell_type": "code",
   "execution_count": 59,
   "id": "f82802c5",
   "metadata": {},
   "outputs": [],
   "source": [
    "list4=[1,3,5]\n",
    "list5=[2,4,6]"
   ]
  },
  {
   "cell_type": "code",
   "execution_count": 68,
   "id": "900c5d0e",
   "metadata": {},
   "outputs": [],
   "source": [
    "list6=[]\n",
    "for i in list4:\n",
    "    for j in list5:\n",
    "        list6.append((i,j))"
   ]
  },
  {
   "cell_type": "code",
   "execution_count": 69,
   "id": "456ca54c",
   "metadata": {},
   "outputs": [
    {
     "data": {
      "text/plain": [
       "[(1, 2), (1, 4), (1, 6), (3, 2), (3, 4), (3, 6), (5, 2), (5, 4), (5, 6)]"
      ]
     },
     "execution_count": 69,
     "metadata": {},
     "output_type": "execute_result"
    }
   ],
   "source": [
    "list6"
   ]
  },
  {
   "cell_type": "code",
   "execution_count": 70,
   "id": "98bd0139",
   "metadata": {},
   "outputs": [
    {
     "data": {
      "text/plain": [
       "[(1, 2), (1, 4), (1, 6), (3, 2), (3, 4), (3, 6), (5, 2), (5, 4), (5, 6)]"
      ]
     },
     "execution_count": 70,
     "metadata": {},
     "output_type": "execute_result"
    }
   ],
   "source": [
    "list6=[(x,y) for x in list4 for y in list5]\n",
    "list6"
   ]
  },
  {
   "cell_type": "code",
   "execution_count": 72,
   "id": "b97e0bf9",
   "metadata": {},
   "outputs": [],
   "source": [
    "#tuples [(1, 2), (1, 4), (1, 6), (3, 2), (3, 4), (3, 6), (5, 2), (5, 4), (5, 6)]"
   ]
  },
  {
   "cell_type": "code",
   "execution_count": 73,
   "id": "5a148795",
   "metadata": {},
   "outputs": [],
   "source": [
    "a=[[1,2,3],[4,5,6],[7,8,9]]"
   ]
  },
  {
   "cell_type": "code",
   "execution_count": 74,
   "id": "db5e0f59",
   "metadata": {},
   "outputs": [
    {
     "data": {
      "text/plain": [
       "3"
      ]
     },
     "execution_count": 74,
     "metadata": {},
     "output_type": "execute_result"
    }
   ],
   "source": [
    "len(a)\n"
   ]
  },
  {
   "cell_type": "code",
   "execution_count": 75,
   "id": "8159dfee",
   "metadata": {},
   "outputs": [
    {
     "data": {
      "text/plain": [
       "2"
      ]
     },
     "execution_count": 75,
     "metadata": {},
     "output_type": "execute_result"
    }
   ],
   "source": [
    "a[0][1]"
   ]
  },
  {
   "cell_type": "code",
   "execution_count": 76,
   "id": "2bfe03d6",
   "metadata": {},
   "outputs": [],
   "source": [
    "#for i in range(1,8)\n",
    "#    for j in range(2,9)\n",
    "#        for k in range(3)"
   ]
  },
  {
   "cell_type": "code",
   "execution_count": 77,
   "id": "9a30d594",
   "metadata": {},
   "outputs": [],
   "source": [
    "#dictionary"
   ]
  },
  {
   "cell_type": "code",
   "execution_count": 78,
   "id": "34304056",
   "metadata": {},
   "outputs": [],
   "source": [
    "dic={}"
   ]
  },
  {
   "cell_type": "code",
   "execution_count": 79,
   "id": "c950028b",
   "metadata": {},
   "outputs": [],
   "source": [
    "dic={143:\"are\",345:\"esa\"}"
   ]
  },
  {
   "cell_type": "code",
   "execution_count": 80,
   "id": "e9036e17",
   "metadata": {},
   "outputs": [
    {
     "data": {
      "text/plain": [
       "'esa'"
      ]
     },
     "execution_count": 80,
     "metadata": {},
     "output_type": "execute_result"
    }
   ],
   "source": [
    "dic[345]"
   ]
  },
  {
   "cell_type": "code",
   "execution_count": 81,
   "id": "a39b03d2",
   "metadata": {},
   "outputs": [
    {
     "ename": "KeyError",
     "evalue": "87",
     "output_type": "error",
     "traceback": [
      "\u001b[1;31m---------------------------------------------------------------------------\u001b[0m",
      "\u001b[1;31mKeyError\u001b[0m                                  Traceback (most recent call last)",
      "\u001b[1;32m~\\AppData\\Local\\Temp\\ipykernel_20416\\1519806109.py\u001b[0m in \u001b[0;36m<module>\u001b[1;34m\u001b[0m\n\u001b[1;32m----> 1\u001b[1;33m \u001b[0mdic\u001b[0m\u001b[1;33m[\u001b[0m\u001b[1;36m87\u001b[0m\u001b[1;33m]\u001b[0m\u001b[1;33m\u001b[0m\u001b[1;33m\u001b[0m\u001b[0m\n\u001b[0m",
      "\u001b[1;31mKeyError\u001b[0m: 87"
     ]
    }
   ],
   "source": [
    "dic[87]"
   ]
  },
  {
   "cell_type": "code",
   "execution_count": 83,
   "id": "05b24d3f",
   "metadata": {},
   "outputs": [
    {
     "data": {
      "text/plain": [
       "dict_keys([143, 345])"
      ]
     },
     "execution_count": 83,
     "metadata": {},
     "output_type": "execute_result"
    }
   ],
   "source": [
    "dic.keys()"
   ]
  },
  {
   "cell_type": "code",
   "execution_count": 84,
   "id": "55fc471a",
   "metadata": {},
   "outputs": [
    {
     "data": {
      "text/plain": [
       "dict_items([(143, 'are'), (345, 'esa')])"
      ]
     },
     "execution_count": 84,
     "metadata": {},
     "output_type": "execute_result"
    }
   ],
   "source": [
    "dic.items()"
   ]
  },
  {
   "cell_type": "code",
   "execution_count": 85,
   "id": "4f09660a",
   "metadata": {},
   "outputs": [],
   "source": [
    "list1=[\"webd\",\"ml\",\"tensor flow\",\"azure\",\"reactjs\",\"ui/ux\",\"dbms\"]"
   ]
  },
  {
   "cell_type": "code",
   "execution_count": 92,
   "id": "abaad1bf",
   "metadata": {},
   "outputs": [],
   "source": [
    "list2=[\"doc\",\"teach\",\"sci\"]\n",
    "dict={\"kanishk\":list1 ,\"johnny sins\":list2}\n",
    "#\"kanishk\" and \"johnny sins\" are key of dictionary ie variables"
   ]
  },
  {
   "cell_type": "code",
   "execution_count": 93,
   "id": "c4ea74ba",
   "metadata": {},
   "outputs": [
    {
     "data": {
      "text/plain": [
       "['webd', 'ml', 'tensor flow', 'azure', 'reactjs', 'ui/ux', 'dbms']"
      ]
     },
     "execution_count": 93,
     "metadata": {},
     "output_type": "execute_result"
    }
   ],
   "source": [
    "dict[\"kanishk\"]"
   ]
  },
  {
   "cell_type": "code",
   "execution_count": 94,
   "id": "3a5bcb60",
   "metadata": {},
   "outputs": [
    {
     "data": {
      "text/plain": [
       "['doc', 'teach', 'sci']"
      ]
     },
     "execution_count": 94,
     "metadata": {},
     "output_type": "execute_result"
    }
   ],
   "source": [
    "dict[\"johnny sins\"]"
   ]
  },
  {
   "cell_type": "code",
   "execution_count": 95,
   "id": "60cd95b4",
   "metadata": {},
   "outputs": [],
   "source": [
    "#list+.+tab will give list f fn"
   ]
  },
  {
   "cell_type": "code",
   "execution_count": 104,
   "id": "2d5fc39f",
   "metadata": {},
   "outputs": [],
   "source": [
    "dic={143:\"are\",345:\"esa\"}"
   ]
  },
  {
   "cell_type": "code",
   "execution_count": 105,
   "id": "8a43d674",
   "metadata": {},
   "outputs": [
    {
     "name": "stdout",
     "output_type": "stream",
     "text": [
      "143 are\n",
      "345 esa\n"
     ]
    }
   ],
   "source": [
    "for keys,values in dic.items():\n",
    "    print(keys,values)"
   ]
  },
  {
   "cell_type": "raw",
   "id": "2a716f23",
   "metadata": {},
   "source": []
  },
  {
   "cell_type": "code",
   "execution_count": 107,
   "id": "9dddcc77",
   "metadata": {},
   "outputs": [],
   "source": [
    "#string formatting"
   ]
  },
  {
   "cell_type": "code",
   "execution_count": 1,
   "id": "c9dc6d36",
   "metadata": {},
   "outputs": [
    {
     "name": "stdout",
     "output_type": "stream",
     "text": [
      "hello your age is 9\n"
     ]
    }
   ],
   "source": [
    "a=9\n",
    "print(f\"hello your age is {a}\")"
   ]
  },
  {
   "cell_type": "code",
   "execution_count": null,
   "id": "d397d410",
   "metadata": {},
   "outputs": [],
   "source": []
  }
 ],
 "metadata": {
  "kernelspec": {
   "display_name": "Python 3 (ipykernel)",
   "language": "python",
   "name": "python3"
  },
  "language_info": {
   "codemirror_mode": {
    "name": "ipython",
    "version": 3
   },
   "file_extension": ".py",
   "mimetype": "text/x-python",
   "name": "python",
   "nbconvert_exporter": "python",
   "pygments_lexer": "ipython3",
   "version": "3.9.13"
  }
 },
 "nbformat": 4,
 "nbformat_minor": 5
}
