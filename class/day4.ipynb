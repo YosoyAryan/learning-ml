{
 "cells": [
  {
   "cell_type": "code",
   "execution_count": 1,
   "id": "8dbff86e",
   "metadata": {},
   "outputs": [],
   "source": [
    "\n",
    "list=[x for x in range(10)]\n"
   ]
  },
  {
   "cell_type": "code",
   "execution_count": 2,
   "id": "bfc3c649",
   "metadata": {},
   "outputs": [
    {
     "data": {
      "text/plain": [
       "[0, 1, 2, 3, 4, 5, 6, 7, 8, 9]"
      ]
     },
     "execution_count": 2,
     "metadata": {},
     "output_type": "execute_result"
    }
   ],
   "source": [
    "list"
   ]
  },
  {
   "cell_type": "code",
   "execution_count": 3,
   "id": "2c23f234",
   "metadata": {},
   "outputs": [
    {
     "data": {
      "text/plain": [
       "10"
      ]
     },
     "execution_count": 3,
     "metadata": {},
     "output_type": "execute_result"
    }
   ],
   "source": [
    "len(list)"
   ]
  },
  {
   "cell_type": "code",
   "execution_count": 4,
   "id": "84fd2435",
   "metadata": {},
   "outputs": [],
   "source": [
    "#memory size fn"
   ]
  },
  {
   "cell_type": "code",
   "execution_count": 5,
   "id": "24ce4a8f",
   "metadata": {},
   "outputs": [
    {
     "data": {
      "text/plain": [
       "184"
      ]
     },
     "execution_count": 5,
     "metadata": {},
     "output_type": "execute_result"
    }
   ],
   "source": [
    "import sys\n",
    "sys.getsizeof(list)"
   ]
  },
  {
   "cell_type": "code",
   "execution_count": 6,
   "id": "394643c9",
   "metadata": {},
   "outputs": [
    {
     "data": {
      "text/plain": [
       "48"
      ]
     },
     "execution_count": 6,
     "metadata": {},
     "output_type": "execute_result"
    }
   ],
   "source": [
    "x=range(1000000)\n",
    "sys.getsizeof(x)"
   ]
  },
  {
   "cell_type": "code",
   "execution_count": 7,
   "id": "915b94da",
   "metadata": {},
   "outputs": [],
   "source": [
    "#strings"
   ]
  },
  {
   "cell_type": "code",
   "execution_count": 8,
   "id": "674d255c",
   "metadata": {},
   "outputs": [
    {
     "name": "stdout",
     "output_type": "stream",
     "text": [
      "I\n",
      "N\n",
      "N\n",
      "O\n",
      "G\n",
      "E\n",
      "E\n",
      "K\n",
      "S\n"
     ]
    }
   ],
   "source": [
    "for x in \"INNOGEEKS\":\n",
    "    print(x)"
   ]
  },
  {
   "cell_type": "code",
   "execution_count": 9,
   "id": "6c3678a2",
   "metadata": {},
   "outputs": [],
   "source": [
    "a= \"hello world !\""
   ]
  },
  {
   "cell_type": "code",
   "execution_count": 10,
   "id": "0a1945eb",
   "metadata": {},
   "outputs": [],
   "source": [
    "#for x in a:\n",
    " #   print(x)\n",
    "  #  if(x/2==0):\n",
    "   # print('yes')"
   ]
  },
  {
   "cell_type": "code",
   "execution_count": 11,
   "id": "b14b7c79",
   "metadata": {},
   "outputs": [
    {
     "data": {
      "text/plain": [
       "'hello world !'"
      ]
     },
     "execution_count": 11,
     "metadata": {},
     "output_type": "execute_result"
    }
   ],
   "source": [
    "a"
   ]
  },
  {
   "cell_type": "code",
   "execution_count": 12,
   "id": "370537ad",
   "metadata": {},
   "outputs": [
    {
     "name": "stdout",
     "output_type": "stream",
     "text": [
      "o world !\n"
     ]
    }
   ],
   "source": [
    "print(a[4:])"
   ]
  },
  {
   "cell_type": "code",
   "execution_count": 13,
   "id": "fbd0759e",
   "metadata": {},
   "outputs": [
    {
     "name": "stdout",
     "output_type": "stream",
     "text": [
      "o wo\n"
     ]
    }
   ],
   "source": [
    "print(a[4:8:])"
   ]
  },
  {
   "cell_type": "code",
   "execution_count": 14,
   "id": "80e2bc9e",
   "metadata": {},
   "outputs": [
    {
     "name": "stdout",
     "output_type": "stream",
     "text": [
      "ello wo\n"
     ]
    }
   ],
   "source": [
    "print(a[1:8])"
   ]
  },
  {
   "cell_type": "code",
   "execution_count": 15,
   "id": "cc1ca57e",
   "metadata": {},
   "outputs": [
    {
     "name": "stdout",
     "output_type": "stream",
     "text": [
      "hello wo\n"
     ]
    }
   ],
   "source": [
    "print(a[:8])"
   ]
  },
  {
   "cell_type": "code",
   "execution_count": 16,
   "id": "f1c28e2b",
   "metadata": {},
   "outputs": [
    {
     "name": "stdout",
     "output_type": "stream",
     "text": [
      "el o\n"
     ]
    }
   ],
   "source": [
    "print(a[1:8:2])#skipping 2"
   ]
  },
  {
   "cell_type": "code",
   "execution_count": 17,
   "id": "b612bc9f",
   "metadata": {},
   "outputs": [
    {
     "name": "stdout",
     "output_type": "stream",
     "text": [
      "! dlrow\n"
     ]
    }
   ],
   "source": [
    "print(a[-1:-8:-1])#-1 to direct the program in reverse of string"
   ]
  },
  {
   "cell_type": "code",
   "execution_count": 18,
   "id": "286fdf2c",
   "metadata": {},
   "outputs": [],
   "source": [
    "str2=\"hello, i am studying in iino class\""
   ]
  },
  {
   "cell_type": "code",
   "execution_count": 19,
   "id": "921cebe9",
   "metadata": {},
   "outputs": [
    {
     "name": "stdout",
     "output_type": "stream",
     "text": [
      "True\n"
     ]
    }
   ],
   "source": [
    "print(\"am\" in str2)"
   ]
  },
  {
   "cell_type": "code",
   "execution_count": 20,
   "id": "2a60283f",
   "metadata": {},
   "outputs": [
    {
     "data": {
      "text/plain": [
       "'HELLO, I AM STUDYING IN IINO CLASS'"
      ]
     },
     "execution_count": 20,
     "metadata": {},
     "output_type": "execute_result"
    }
   ],
   "source": [
    "str2.upper()"
   ]
  },
  {
   "cell_type": "code",
   "execution_count": 21,
   "id": "075bf23a",
   "metadata": {},
   "outputs": [],
   "source": [
    "#w3schools"
   ]
  },
  {
   "cell_type": "raw",
   "id": "bd726418",
   "metadata": {},
   "source": []
  },
  {
   "cell_type": "code",
   "execution_count": 22,
   "id": "d9b1b134",
   "metadata": {},
   "outputs": [
    {
     "data": {
      "text/plain": [
       "'hello, i am studying in iino class'"
      ]
     },
     "execution_count": 22,
     "metadata": {},
     "output_type": "execute_result"
    }
   ],
   "source": [
    "str2.lower()"
   ]
  },
  {
   "cell_type": "code",
   "execution_count": 23,
   "id": "f189966b",
   "metadata": {},
   "outputs": [],
   "source": [
    "str1= str2 +\" aryan\"+ \"23\""
   ]
  },
  {
   "cell_type": "markdown",
   "id": "74972dcd",
   "metadata": {},
   "source": [
    "# "
   ]
  },
  {
   "cell_type": "code",
   "execution_count": 24,
   "id": "3ecd2019",
   "metadata": {},
   "outputs": [
    {
     "data": {
      "text/plain": [
       "'hello, i am studying in iino class aryan23'"
      ]
     },
     "execution_count": 24,
     "metadata": {},
     "output_type": "execute_result"
    }
   ],
   "source": [
    "\n",
    "str1"
   ]
  },
  {
   "cell_type": "code",
   "execution_count": 25,
   "id": "650df0d7",
   "metadata": {},
   "outputs": [],
   "source": [
    "#functions"
   ]
  },
  {
   "cell_type": "markdown",
   "id": "832811d2",
   "metadata": {},
   "source": [
    "# functions"
   ]
  },
  {
   "cell_type": "code",
   "execution_count": 26,
   "id": "a85c0c96",
   "metadata": {},
   "outputs": [],
   "source": [
    "def inno():\n",
    "    print(\"aryan\")"
   ]
  },
  {
   "cell_type": "code",
   "execution_count": 27,
   "id": "54a64172",
   "metadata": {},
   "outputs": [
    {
     "name": "stdout",
     "output_type": "stream",
     "text": [
      "aryan\n"
     ]
    }
   ],
   "source": [
    "inno()"
   ]
  },
  {
   "cell_type": "code",
   "execution_count": 28,
   "id": "9ca0dcfb",
   "metadata": {},
   "outputs": [],
   "source": [
    "y=dir(sys)"
   ]
  },
  {
   "cell_type": "code",
   "execution_count": 29,
   "id": "d15b6fb0",
   "metadata": {},
   "outputs": [
    {
     "data": {
      "text/plain": [
       "['__breakpointhook__',\n",
       " '__displayhook__',\n",
       " '__doc__',\n",
       " '__excepthook__',\n",
       " '__interactivehook__',\n",
       " '__loader__',\n",
       " '__name__',\n",
       " '__package__',\n",
       " '__spec__',\n",
       " '__stderr__',\n",
       " '__stdin__',\n",
       " '__stdout__',\n",
       " '__unraisablehook__',\n",
       " '_base_executable',\n",
       " '_clear_type_cache',\n",
       " '_current_frames',\n",
       " '_debugmallocstats',\n",
       " '_enablelegacywindowsfsencoding',\n",
       " '_framework',\n",
       " '_getframe',\n",
       " '_git',\n",
       " '_home',\n",
       " '_xoptions',\n",
       " 'addaudithook',\n",
       " 'api_version',\n",
       " 'argv',\n",
       " 'audit',\n",
       " 'base_exec_prefix',\n",
       " 'base_prefix',\n",
       " 'breakpointhook',\n",
       " 'builtin_module_names',\n",
       " 'byteorder',\n",
       " 'call_tracing',\n",
       " 'copyright',\n",
       " 'displayhook',\n",
       " 'dllhandle',\n",
       " 'dont_write_bytecode',\n",
       " 'exc_info',\n",
       " 'excepthook',\n",
       " 'exec_prefix',\n",
       " 'executable',\n",
       " 'exit',\n",
       " 'flags',\n",
       " 'float_info',\n",
       " 'float_repr_style',\n",
       " 'get_asyncgen_hooks',\n",
       " 'get_coroutine_origin_tracking_depth',\n",
       " 'getallocatedblocks',\n",
       " 'getdefaultencoding',\n",
       " 'getfilesystemencodeerrors',\n",
       " 'getfilesystemencoding',\n",
       " 'getprofile',\n",
       " 'getrecursionlimit',\n",
       " 'getrefcount',\n",
       " 'getsizeof',\n",
       " 'getswitchinterval',\n",
       " 'gettrace',\n",
       " 'getwindowsversion',\n",
       " 'hash_info',\n",
       " 'hexversion',\n",
       " 'implementation',\n",
       " 'int_info',\n",
       " 'intern',\n",
       " 'is_finalizing',\n",
       " 'maxsize',\n",
       " 'maxunicode',\n",
       " 'meta_path',\n",
       " 'modules',\n",
       " 'path',\n",
       " 'path_hooks',\n",
       " 'path_importer_cache',\n",
       " 'platform',\n",
       " 'platlibdir',\n",
       " 'prefix',\n",
       " 'ps1',\n",
       " 'ps2',\n",
       " 'ps3',\n",
       " 'pycache_prefix',\n",
       " 'set_asyncgen_hooks',\n",
       " 'set_coroutine_origin_tracking_depth',\n",
       " 'setprofile',\n",
       " 'setrecursionlimit',\n",
       " 'setswitchinterval',\n",
       " 'settrace',\n",
       " 'stderr',\n",
       " 'stdin',\n",
       " 'stdout',\n",
       " 'thread_info',\n",
       " 'unraisablehook',\n",
       " 'version',\n",
       " 'version_info',\n",
       " 'warnoptions',\n",
       " 'winver']"
      ]
     },
     "execution_count": 29,
     "metadata": {},
     "output_type": "execute_result"
    }
   ],
   "source": [
    "y"
   ]
  },
  {
   "cell_type": "code",
   "execution_count": 31,
   "id": "e9b9c956",
   "metadata": {},
   "outputs": [
    {
     "name": "stdout",
     "output_type": "stream",
     "text": [
      "aryan34\n"
     ]
    }
   ],
   "source": [
    "def inno(*size):\n",
    "    print(\"aryan\"+size[1]+size[2])\n",
    "inno(\"2\",\"3\",\"4\")"
   ]
  },
  {
   "cell_type": "code",
   "execution_count": null,
   "id": "192eef88",
   "metadata": {},
   "outputs": [],
   "source": []
  }
 ],
 "metadata": {
  "kernelspec": {
   "display_name": "Python 3 (ipykernel)",
   "language": "python",
   "name": "python3"
  },
  "language_info": {
   "codemirror_mode": {
    "name": "ipython",
    "version": 3
   },
   "file_extension": ".py",
   "mimetype": "text/x-python",
   "name": "python",
   "nbconvert_exporter": "python",
   "pygments_lexer": "ipython3",
   "version": "3.9.13"
  }
 },
 "nbformat": 4,
 "nbformat_minor": 5
}
