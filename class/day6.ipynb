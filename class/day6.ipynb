{
 "cells": [
  {
   "cell_type": "code",
   "execution_count": 1,
   "id": "b9b5d16a",
   "metadata": {},
   "outputs": [],
   "source": [
    "#numpy array"
   ]
  },
  {
   "cell_type": "code",
   "execution_count": 38,
   "id": "1d3b3fed",
   "metadata": {},
   "outputs": [
    {
     "name": "stdout",
     "output_type": "stream",
     "text": [
      "aditiaditiaditiaditiaditiaditiaditiaditiaditiaditiaditiaditiaditiaditiaditiaditiaditiaditiaditiaditiaditiaditiaditiaditiaditiaditiaditiaditiaditiaditiaditiaditiaditiaditiaditiaditiaditiaditiaditiaditiaditiaditiaditiaditiaditiaditiaditiaditiaditiaditiaditiaditiaditiaditiaditiaditiaditiaditiaditiaditiaditiaditiaditiaditiaditiaditiaditiaditiaditiaditiaditiaditiaditiaditiaditiaditiaditiaditiaditiaditiaditiaditiaditiaditiaditiaditiaditiaditiaditiaditiaditiaditiaditiaditiaditiaditiaditiaditiaditiaditi\n"
     ]
    }
   ],
   "source": [
    "print('aditi'*100)"
   ]
  },
  {
   "cell_type": "code",
   "execution_count": 7,
   "id": "7c76cb5f",
   "metadata": {},
   "outputs": [],
   "source": [
    "import numpy as np"
   ]
  },
  {
   "cell_type": "code",
   "execution_count": 8,
   "id": "61d16ac1",
   "metadata": {},
   "outputs": [],
   "source": [
    "#creating an array\n",
    "arr=np.array((1,2,3,4,5))"
   ]
  },
  {
   "cell_type": "code",
   "execution_count": 9,
   "id": "aab7b21c",
   "metadata": {},
   "outputs": [
    {
     "data": {
      "text/plain": [
       "array([1, 2, 3, 4, 5])"
      ]
     },
     "execution_count": 9,
     "metadata": {},
     "output_type": "execute_result"
    }
   ],
   "source": [
    "arr"
   ]
  },
  {
   "cell_type": "code",
   "execution_count": 12,
   "id": "c2919303",
   "metadata": {},
   "outputs": [],
   "source": [
    "#datattype of an array\n",
    "arr=np.array([1,2,3,4],dtype=float)"
   ]
  },
  {
   "cell_type": "code",
   "execution_count": 13,
   "id": "bdc8bb66",
   "metadata": {},
   "outputs": [
    {
     "data": {
      "text/plain": [
       "array([1., 2., 3., 4.])"
      ]
     },
     "execution_count": 13,
     "metadata": {},
     "output_type": "execute_result"
    }
   ],
   "source": [
    "arr"
   ]
  },
  {
   "cell_type": "code",
   "execution_count": 14,
   "id": "9e0be6e9",
   "metadata": {},
   "outputs": [],
   "source": [
    "#initialising an array"
   ]
  },
  {
   "cell_type": "markdown",
   "id": "69d04d65",
   "metadata": {},
   "source": []
  },
  {
   "cell_type": "code",
   "execution_count": 27,
   "id": "d8040a4d",
   "metadata": {},
   "outputs": [],
   "source": [
    "arr=np.array([],dtype='S')\n",
    "arr=arr.astype(int)"
   ]
  },
  {
   "cell_type": "code",
   "execution_count": 17,
   "id": "6948a08b",
   "metadata": {},
   "outputs": [],
   "source": [
    "arr=np.arange(10,40,2)"
   ]
  },
  {
   "cell_type": "raw",
   "id": "c7c92845",
   "metadata": {},
   "source": [
    "arr"
   ]
  },
  {
   "cell_type": "code",
   "execution_count": 18,
   "id": "7d69f5cc",
   "metadata": {},
   "outputs": [
    {
     "data": {
      "text/plain": [
       "array([10, 12, 14, 16, 18, 20, 22, 24, 26, 28, 30, 32, 34, 36, 38])"
      ]
     },
     "execution_count": 18,
     "metadata": {},
     "output_type": "execute_result"
    }
   ],
   "source": [
    "arr"
   ]
  },
  {
   "cell_type": "code",
   "execution_count": 22,
   "id": "a5f39e00",
   "metadata": {},
   "outputs": [],
   "source": [
    "arr=np.insert(arr,3,int(40))"
   ]
  },
  {
   "cell_type": "raw",
   "id": "3d800688",
   "metadata": {},
   "source": []
  },
  {
   "cell_type": "code",
   "execution_count": 23,
   "id": "47605bfb",
   "metadata": {},
   "outputs": [
    {
     "data": {
      "text/plain": [
       "array([10, 12, 14, 40, 16, 18, 20, 22, 24, 26, 28, 30, 32, 34, 36, 38])"
      ]
     },
     "execution_count": 23,
     "metadata": {},
     "output_type": "execute_result"
    }
   ],
   "source": [
    "arr"
   ]
  },
  {
   "cell_type": "code",
   "execution_count": 25,
   "id": "74d575c9",
   "metadata": {},
   "outputs": [],
   "source": [
    "arr=np.append(arr,59)\n",
    "arr=np.delete(arr,14)"
   ]
  },
  {
   "cell_type": "code",
   "execution_count": 26,
   "id": "f25dd30c",
   "metadata": {},
   "outputs": [
    {
     "data": {
      "text/plain": [
       "array([10, 12, 14, 40, 16, 18, 20, 22, 24, 26, 28, 30, 32, 34, 38, 59])"
      ]
     },
     "execution_count": 26,
     "metadata": {},
     "output_type": "execute_result"
    }
   ],
   "source": [
    "arr"
   ]
  },
  {
   "cell_type": "code",
   "execution_count": 28,
   "id": "5bcf6eb6",
   "metadata": {},
   "outputs": [],
   "source": [
    "#numpy site for refrence"
   ]
  },
  {
   "cell_type": "code",
   "execution_count": 29,
   "id": "8b0f184f",
   "metadata": {},
   "outputs": [],
   "source": [
    "#2d array matrix"
   ]
  },
  {
   "cell_type": "code",
   "execution_count": 33,
   "id": "8806ae16",
   "metadata": {},
   "outputs": [],
   "source": [
    "mat=np.array([[1,2,3,4],[5,6,7,8],[9,10,12,13]])"
   ]
  },
  {
   "cell_type": "code",
   "execution_count": 34,
   "id": "3a4d476e",
   "metadata": {},
   "outputs": [
    {
     "data": {
      "text/plain": [
       "array([[ 1,  2,  3,  4],\n",
       "       [ 5,  6,  7,  8],\n",
       "       [ 9, 10, 12, 13]])"
      ]
     },
     "execution_count": 34,
     "metadata": {},
     "output_type": "execute_result"
    }
   ],
   "source": [
    "mat"
   ]
  },
  {
   "cell_type": "code",
   "execution_count": 35,
   "id": "1dea2da6",
   "metadata": {},
   "outputs": [
    {
     "name": "stdout",
     "output_type": "stream",
     "text": [
      "[[ 1  2  3  4]\n",
      " [ 5  6  7  8]\n",
      " [ 9 10 12 13]]\n"
     ]
    }
   ],
   "source": [
    "print(mat)"
   ]
  },
  {
   "cell_type": "code",
   "execution_count": 49,
   "id": "fe9a05d4",
   "metadata": {},
   "outputs": [
    {
     "name": "stdout",
     "output_type": "stream",
     "text": [
      "1.8504302501678467\n"
     ]
    }
   ],
   "source": [
    "#speed \n",
    "a=[i for i in range(10000000)]\n",
    "b=[i for i in range(10000000,20000000)]\n",
    "c=[]\n",
    "import time\n",
    "start=time.time()\n",
    "for i in range(len(a)):\n",
    "    c.append(a[i]+b[i])\n",
    "print(time.time()-start)    "
   ]
  },
  {
   "cell_type": "code",
   "execution_count": 50,
   "id": "5e3a95af",
   "metadata": {},
   "outputs": [
    {
     "name": "stdout",
     "output_type": "stream",
     "text": [
      "0.10538911819458008\n"
     ]
    }
   ],
   "source": [
    "a1=[i for i in range(10000000)]\n",
    "b1=[i for i in range(10000000,20000000)]\n",
    "import time\n",
    "start=time.time()\n",
    "c1=a1+b1\n",
    "print(time.time()-start)    "
   ]
  },
  {
   "cell_type": "code",
   "execution_count": 51,
   "id": "5dccd14b",
   "metadata": {},
   "outputs": [
    {
     "data": {
      "text/plain": [
       "array([5, 6, 7, 8])"
      ]
     },
     "execution_count": 51,
     "metadata": {},
     "output_type": "execute_result"
    }
   ],
   "source": [
    "mat[1]"
   ]
  },
  {
   "cell_type": "code",
   "execution_count": 52,
   "id": "c78e4543",
   "metadata": {},
   "outputs": [
    {
     "data": {
      "text/plain": [
       "8"
      ]
     },
     "execution_count": 52,
     "metadata": {},
     "output_type": "execute_result"
    }
   ],
   "source": [
    "mat[1,3]"
   ]
  },
  {
   "cell_type": "code",
   "execution_count": 53,
   "id": "9e830fd7",
   "metadata": {},
   "outputs": [
    {
     "data": {
      "text/plain": [
       "array([[ 1,  2,  3,  4],\n",
       "       [ 5,  6,  7,  8],\n",
       "       [ 9, 10, 12, 13]])"
      ]
     },
     "execution_count": 53,
     "metadata": {},
     "output_type": "execute_result"
    }
   ],
   "source": [
    "mat"
   ]
  },
  {
   "cell_type": "code",
   "execution_count": 54,
   "id": "5648b5f1",
   "metadata": {},
   "outputs": [],
   "source": [
    "#3d array"
   ]
  },
  {
   "cell_type": "code",
   "execution_count": 55,
   "id": "84f85238",
   "metadata": {},
   "outputs": [],
   "source": [
    "d3=np.array([[[1,2,3,4],[5,6,7,8]],[[9,8,10,11],[13,14,15,16]]])"
   ]
  },
  {
   "cell_type": "code",
   "execution_count": 56,
   "id": "4d4a8d27",
   "metadata": {},
   "outputs": [
    {
     "data": {
      "text/plain": [
       "array([[[ 1,  2,  3,  4],\n",
       "        [ 5,  6,  7,  8]],\n",
       "\n",
       "       [[ 9,  8, 10, 11],\n",
       "        [13, 14, 15, 16]]])"
      ]
     },
     "execution_count": 56,
     "metadata": {},
     "output_type": "execute_result"
    }
   ],
   "source": [
    "d3"
   ]
  },
  {
   "cell_type": "code",
   "execution_count": null,
   "id": "10c05945",
   "metadata": {},
   "outputs": [],
   "source": [
    "dn=np.array([3],ndarray=5)"
   ]
  }
 ],
 "metadata": {
  "kernelspec": {
   "display_name": "Python 3 (ipykernel)",
   "language": "python",
   "name": "python3"
  },
  "language_info": {
   "codemirror_mode": {
    "name": "ipython",
    "version": 3
   },
   "file_extension": ".py",
   "mimetype": "text/x-python",
   "name": "python",
   "nbconvert_exporter": "python",
   "pygments_lexer": "ipython3",
   "version": "3.9.13"
  }
 },
 "nbformat": 4,
 "nbformat_minor": 5
}
